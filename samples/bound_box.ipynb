{
 "cells": [
  {
   "cell_type": "code",
   "execution_count": null,
   "metadata": {},
   "outputs": [],
   "source": [
    "import os\n",
    "import sys\n",
    "import random\n",
    "import math\n",
    "import numpy as np\n",
    "import skimage.io\n",
    "import matplotlib\n",
    "import matplotlib.pyplot as plt\n",
    "import time\n",
    "import cv2\n",
    "from PIL import Image\n",
    "\n",
    "# Root directory of the project\n",
    "ROOT_DIR = os.path.abspath(\"../\")\n",
    "\n",
    "# Import Mask RCNN\n",
    "sys.path.append(ROOT_DIR)  # To find local version of the library\n",
    "from mrcnn import utils\n",
    "import mrcnn.model as modellib\n",
    "from mrcnn import visualize\n",
    "import save\n",
    "\n",
    "# Import COCO config\n",
    "sys.path.append(os.path.join(ROOT_DIR, \"samples/coco/\"))  # To find local version\n",
    "import coco\n",
    "\n",
    "%matplotlib inline \n",
    "\n",
    "# Directory to save logs and trained model\n",
    "MODEL_DIR = os.path.join(ROOT_DIR, \"logs\")\n",
    "\n",
    "# Local path to trained weights file\n",
    "COCO_MODEL_PATH = os.path.join(ROOT_DIR, \"mask_rcnn_coco.h5\")\n",
    "# Download COCO trained weights from Releases if needed\n",
    "if not os.path.exists(COCO_MODEL_PATH):\n",
    "    utils.download_trained_weights(COCO_MODEL_PATH)"
   ]
  },
  {
   "cell_type": "code",
   "execution_count": null,
   "metadata": {},
   "outputs": [],
   "source": [
    "class InferenceConfig(coco.CocoConfig):\n",
    "    # Set batch size to 1 since we'll be running inference on\n",
    "    # one image at a time. Batch size = GPU_COUNT * IMAGES_PER_GPU\n",
    "    GPU_COUNT = 1\n",
    "    IMAGES_PER_GPU = 1\n",
    "    NUM_CLASSES = 81\n",
    "\n",
    "config = InferenceConfig()\n",
    "# config.display()"
   ]
  },
  {
   "cell_type": "code",
   "execution_count": null,
   "metadata": {},
   "outputs": [],
   "source": [
    "# Create model object in inference mode.\n",
    "model = modellib.MaskRCNN(mode=\"inference\", model_dir=MODEL_DIR, config=config)\n",
    "\n",
    "# Load weights trained on MS-COCO\n",
    "model.load_weights(COCO_MODEL_PATH, by_name=True)"
   ]
  },
  {
   "cell_type": "code",
   "execution_count": null,
   "metadata": {},
   "outputs": [],
   "source": [
    "# COCO Class names\n",
    "# Index of the class in the list is its ID. For example, to get ID of\n",
    "# the teddy bear class, use: class_names.index('teddy bear')\n",
    "class_names = ['BG', 'person', 'bicycle', 'car', 'motorcycle', 'airplane',\n",
    "               'bus', 'train', 'truck', 'boat', 'traffic light',\n",
    "               'fire hydrant', 'stop sign', 'parking meter', 'bench', 'bird',\n",
    "               'cat', 'dog', 'horse', 'sheep', 'cow', 'elephant', 'bear',\n",
    "               'zebra', 'giraffe', 'backpack', 'umbrella', 'handbag', 'tie',\n",
    "               'suitcase', 'frisbee', 'skis', 'snowboard', 'sports ball',\n",
    "               'kite', 'baseball bat', 'baseball glove', 'skateboard',\n",
    "               'surfboard', 'tennis racket', 'bottle', 'wine glass', 'cup',\n",
    "               'fork', 'knife', 'spoon', 'bowl', 'banana', 'apple',\n",
    "               'sandwich', 'orange', 'broccoli', 'carrot', 'hot dog', 'pizza',\n",
    "               'donut', 'cake', 'chair', 'couch', 'potted plant', 'bed',\n",
    "               'dining table', 'toilet', 'tv', 'laptop', 'mouse', 'remote',\n",
    "               'keyboard', 'cell phone', 'microwave', 'oven', 'toaster',\n",
    "               'sink', 'refrigerator', 'book', 'clock', 'vase', 'scissors',\n",
    "               'teddy bear', 'hair drier', 'toothbrush']\n",
    "print(class_names.index('bottle'))"
   ]
  },
  {
   "cell_type": "code",
   "execution_count": null,
   "metadata": {},
   "outputs": [],
   "source": [
    "img_dir = '/srv/glusterfs/rheiki/data/videos/interview/frames'\n",
    "img_ext = '.png'\n",
    "file_names = []\n",
    "for f in os.listdir(img_dir):\n",
    "    if f.endswith(img_ext):\n",
    "        file_names.append(f)\n",
    "folder_path = '/srv/glusterfs/rheiki/data/videos/interview/crops'\n",
    "padding_size = 10\n",
    "if not os.path.exists(folder_path):\n",
    "    os.makedirs(folder_path)"
   ]
  },
  {
   "cell_type": "code",
   "execution_count": null,
   "metadata": {},
   "outputs": [],
   "source": [
    "print(\"Total number of images: {}\".format(len(file_names)))\n",
    "for index, file_name in enumerate(sorted(file_names)):\n",
    "    img_path = os.path.join(folder_path, file_name)\n",
    "    if os.path.isfile(img_path):\n",
    "        print(\"Skipping image {}. Image already exists.\".format(file_name))\n",
    "        continue        \n",
    "    image = skimage.io.imread(os.path.join(img_dir, file_name))\n",
    "    # Run detection\n",
    "    result = model.detect([image], verbose=0)\n",
    "    r = result[0]\n",
    "    if not len(np.where(r['class_ids'] == 40)[0]):\n",
    "        print(\"Skipping image {}. Bottle not found.\".format(file_name))\n",
    "        continue\n",
    "    bottle_index = np.where(r['class_ids'] == 40)[0][0]\n",
    "    r['masks'] = r['masks'][:, :, bottle_index:bottle_index + 1]\n",
    "    r['rois'] = r['rois'][bottle_index:bottle_index + 1]\n",
    "    r['class_ids'] = r['class_ids'][bottle_index:bottle_index + 1]\n",
    "    left, top, right, bottom = r['rois'][0]\n",
    "    img = Image.fromarray(image, 'RGB')\n",
    "    cropped = img.crop((top - padding_size, left - padding_size, bottom + padding_size, right + padding_size))\n",
    "    cropped.save(img_path, \"PNG\")\n",
    "    print(\"Saved image {img_name}. {no_left} images remaining.\".format(img_name=new_name, no_left=len(file_names) - index - 1))"
   ]
  },
  {
   "cell_type": "markdown",
   "metadata": {},
   "source": [
    "## Next cells are used only for debugging."
   ]
  },
  {
   "cell_type": "code",
   "execution_count": null,
   "metadata": {},
   "outputs": [],
   "source": [
    "# Visualize results\n",
    "image = skimage.io.imread(os.path.join(img_dir, sorted(file_names)[456]))\n",
    "# Run detection\n",
    "result = model.detect([image], verbose=0)\n",
    "r = result[0]\n",
    "if not len(np.where(r['class_ids'] == 40)[0]):\n",
    "    print(\"Skip\")\n",
    "bottle_index = np.where(r['class_ids'] == 40)[0][0]\n",
    "visualize.display_instances(image, r['rois'], r['masks'], r['class_ids'], class_names, r['scores'])"
   ]
  },
  {
   "cell_type": "code",
   "execution_count": null,
   "metadata": {},
   "outputs": [],
   "source": [
    "r['masks'] = r['masks'][:, :, bottle_index:bottle_index + 1]\n",
    "r['rois'] = r['rois'][bottle_index:bottle_index + 1]\n",
    "r['class_ids'] = r['class_ids'][bottle_index:bottle_index + 1]"
   ]
  },
  {
   "cell_type": "code",
   "execution_count": null,
   "metadata": {},
   "outputs": [],
   "source": [
    "left, top, right, bottom = r['rois'][0]\n",
    "img = Image.fromarray(image, 'RGB')\n",
    "w, h = img.size\n",
    "img.show()\n",
    "cropped = img.crop((top - 10, left - 10, bottom + 10, right + 10))\n",
    "file_name = file_names[0]\n",
    "img_path = os.path.join(folder_path, file_name)\n",
    "cropped.save(img_path)\n",
    "#save.save_instance(image=image, boxes=r['rois'], masks=r['masks'], class_ids=r['class_ids'], class_names=class_names, scores=r['scores'], show_bbox=True, show_mask=False, save_path=img_path)"
   ]
  },
  {
   "cell_type": "code",
   "execution_count": null,
   "metadata": {},
   "outputs": [],
   "source": []
  }
 ],
 "metadata": {
  "kernelspec": {
   "display_name": "Python 3",
   "language": "python",
   "name": "python3"
  },
  "language_info": {
   "codemirror_mode": {
    "name": "ipython",
    "version": 3
   },
   "file_extension": ".py",
   "mimetype": "text/x-python",
   "name": "python",
   "nbconvert_exporter": "python",
   "pygments_lexer": "ipython3",
   "version": "3.5.5"
  }
 },
 "nbformat": 4,
 "nbformat_minor": 2
}
